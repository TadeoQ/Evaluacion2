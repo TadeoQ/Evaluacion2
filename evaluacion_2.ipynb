{
 "cells": [
  {
   "cell_type": "markdown",
   "id": "c2903aaf-6b22-44c3-9609-af5cc880e5fc",
   "metadata": {},
   "source": [
    "Parte 1: Creación y manipulación de arrays\n",
    "Creamos un array de 10 elementos enteros aleatorios entre 1 y 100"
   ]
  },
  {
   "cell_type": "code",
   "execution_count": 3,
   "id": "fe96ebe7-9aec-4684-a72a-6aae51ea96a6",
   "metadata": {},
   "outputs": [
    {
     "name": "stdout",
     "output_type": "stream",
     "text": [
      "Arreglo generado: [32 43 82 53  6 17 18 14  6 11]\n"
     ]
    }
   ],
   "source": [
    "import numpy as np\n",
    "\n",
    "array = np.random.randint(1, 101, size=10)\n",
    "print(\"Arreglo generado:\", array)"
   ]
  },
  {
   "cell_type": "markdown",
   "id": "3dfcea63-2fac-419b-803c-1111353ecd48",
   "metadata": {},
   "source": [
    "Reshape: Convertimos el arreglo en una matriz de 2x5"
   ]
  },
  {
   "cell_type": "code",
   "execution_count": 4,
   "id": "30f19365-a0d9-4c80-a6d0-f51446e5bec0",
   "metadata": {},
   "outputs": [
    {
     "name": "stdout",
     "output_type": "stream",
     "text": [
      "\n",
      "Matriz 2x5:\n",
      "[[32 43 82 53  6]\n",
      " [17 18 14  6 11]]\n"
     ]
    }
   ],
   "source": [
    "matriz_2x5 = array.reshape(2, 5)\n",
    "print(\"\\nMatriz 2x5:\")\n",
    "print(matriz_2x5)"
   ]
  },
  {
   "cell_type": "markdown",
   "id": "6a15b698-1b6e-4391-8167-97547a61297e",
   "metadata": {},
   "source": [
    "Indexación y slicing: Extraemos la primera fila y la última columna"
   ]
  },
  {
   "cell_type": "code",
   "execution_count": 5,
   "id": "2b31383f-9a2d-44a3-a64e-fa556ae1e2f0",
   "metadata": {},
   "outputs": [
    {
     "name": "stdout",
     "output_type": "stream",
     "text": [
      "\n",
      "Primera fila: [32 43 82 53  6]\n",
      "Última columna: [ 6 11]\n"
     ]
    }
   ],
   "source": [
    "primera_fila = matriz_2x5[0, :]\n",
    "print(\"\\nPrimera fila:\", primera_fila)\n",
    "\n",
    "ultima_columna = matriz_2x5[:, -1]\n",
    "print(\"Última columna:\", ultima_columna)"
   ]
  },
  {
   "cell_type": "markdown",
   "id": "b558665a-6f02-443d-8fb8-78cec9a656f6",
   "metadata": {},
   "source": [
    "Modificación: Cambiamos los valores de la segunda fila a ceros"
   ]
  },
  {
   "cell_type": "code",
   "execution_count": 6,
   "id": "405d1fbe-3a9d-4f95-ba9f-c03f5543db18",
   "metadata": {},
   "outputs": [
    {
     "name": "stdout",
     "output_type": "stream",
     "text": [
      "\n",
      "Matriz con la segunda fila modificada:\n",
      "[[32 43 82 53  6]\n",
      " [ 0  0  0  0  0]]\n"
     ]
    }
   ],
   "source": [
    "matriz_2x5[1, :] = 0\n",
    "print(\"\\nMatriz con la segunda fila modificada:\")\n",
    "print(matriz_2x5)"
   ]
  },
  {
   "cell_type": "markdown",
   "id": "2f794a58-79c4-4341-8517-3fddd2a42b58",
   "metadata": {},
   "source": [
    "Parte 2: Operaciones básicas con NumPy\n",
    "Operaciones aritméticas: Suma y multiplicación de arreglos"
   ]
  },
  {
   "cell_type": "code",
   "execution_count": 7,
   "id": "c9d9e5ed-3c54-4ed1-ae4f-7cfde8cf3905",
   "metadata": {},
   "outputs": [
    {
     "name": "stdout",
     "output_type": "stream",
     "text": [
      "\n",
      "Array 1: [20 31  8  9 13]\n",
      "Array 2: [ 1 18 30 38 50]\n",
      "\n",
      "Suma de los arreglos: [21 49 38 47 63]\n",
      "Multiplicación de los arreglos: [ 20 558 240 342 650]\n"
     ]
    }
   ],
   "source": [
    "array1 = np.random.randint(1, 51, size=5)\n",
    "array2 = np.random.randint(1, 51, size=5)\n",
    "\n",
    "print(\"\\nArray 1:\", array1)\n",
    "print(\"Array 2:\", array2)\n",
    "\n",
    "suma_arrays = array1 + array2\n",
    "print(\"\\nSuma de los arreglos:\", suma_arrays)\n",
    "\n",
    "multiplicacion_arrays = array1 * array2\n",
    "print(\"Multiplicación de los arreglos:\", multiplicacion_arrays)"
   ]
  },
  {
   "cell_type": "markdown",
   "id": "fdcc28dc-12bf-44f2-a83d-10d639999e67",
   "metadata": {},
   "source": [
    "Cálculamos el promedio y la desviación estándar"
   ]
  },
  {
   "cell_type": "code",
   "execution_count": 8,
   "id": "7a1ab804-2c00-4103-86d3-087288583884",
   "metadata": {},
   "outputs": [
    {
     "name": "stdout",
     "output_type": "stream",
     "text": [
      "\n",
      "Promedio de la suma: 43.6, Desviación estándar: 13.850631754544628\n",
      "Promedio de la multiplicación: 362.0, Desviación estándar: 225.21456436030064\n"
     ]
    }
   ],
   "source": [
    "promedio_suma = np.mean(suma_arrays)\n",
    "desviacion_suma = np.std(suma_arrays)\n",
    "\n",
    "promedio_multiplicacion = np.mean(multiplicacion_arrays)\n",
    "desviacion_multiplicacion = np.std(multiplicacion_arrays)\n",
    "\n",
    "print(f\"\\nPromedio de la suma: {promedio_suma}, Desviación estándar: {desviacion_suma}\")\n",
    "print(f\"Promedio de la multiplicación: {promedio_multiplicacion}, Desviación estándar: {desviacion_multiplicacion}\")"
   ]
  },
  {
   "cell_type": "markdown",
   "id": "d1b5f7d6-287d-45ad-85df-61d68d353cdd",
   "metadata": {},
   "source": [
    "Condiciones lógicas: Reemplazamos valores"
   ]
  },
  {
   "cell_type": "code",
   "execution_count": 9,
   "id": "3c168e6c-9510-41d9-b34f-29157aa05523",
   "metadata": {},
   "outputs": [
    {
     "name": "stdout",
     "output_type": "stream",
     "text": [
      "\n",
      "Arreglo original (entre 0 y 1): [0.90982922 0.36797711 0.70932592 0.34726123 0.38676578 0.0403294\n",
      " 0.81448214 0.23780179 0.4508233  0.54066464 0.7769523  0.13465081\n",
      " 0.72191851 0.16621982 0.28656999 0.42654103 0.69348477 0.08086174\n",
      " 0.75440555 0.05460901]\n",
      "\n",
      "Arreglo modificado con las condiciones lógicas: [1 0 1 0 0 0 1 0 0 1 1 0 1 0 0 0 1 0 1 0]\n"
     ]
    }
   ],
   "source": [
    "array_random = np.random.rand(20)\n",
    "print(\"\\nArreglo original (entre 0 y 1):\", array_random)\n",
    "\n",
    "array_modificado = np.where(array_random < 0.5, 0, 1)\n",
    "print(\"\\nArreglo modificado con las condiciones lógicas:\", array_modificado)"
   ]
  },
  {
   "cell_type": "markdown",
   "id": "a5506168-3a14-4d2e-a91c-9c1edcb75a20",
   "metadata": {},
   "source": [
    "Producto escalar de dos arreglos de 3x3"
   ]
  },
  {
   "cell_type": "code",
   "execution_count": 10,
   "id": "65808dfd-f31f-4862-88af-e52ecb365142",
   "metadata": {},
   "outputs": [
    {
     "name": "stdout",
     "output_type": "stream",
     "text": [
      "\n",
      "Array 3x3 - 1:\n",
      "[[8 1 9]\n",
      " [2 2 9]\n",
      " [2 8 2]]\n",
      "\n",
      "Array 3x3 - 2:\n",
      "[[8 2 6]\n",
      " [2 5 2]\n",
      " [8 8 1]]\n",
      "\n",
      "Producto escalar entre los arreglos 3x3:\n",
      "[[138  93  59]\n",
      " [ 92  86  25]\n",
      " [ 48  60  30]]\n"
     ]
    }
   ],
   "source": [
    "array_3x3_1 = np.random.randint(1, 10, size=(3, 3))\n",
    "array_3x3_2 = np.random.randint(1, 10, size=(3, 3))\n",
    "\n",
    "print(\"\\nArray 3x3 - 1:\")\n",
    "print(array_3x3_1)\n",
    "print(\"\\nArray 3x3 - 2:\")\n",
    "print(array_3x3_2)\n",
    "\n",
    "producto_escalar = np.dot(array_3x3_1, array_3x3_2)\n",
    "print(\"\\nProducto escalar entre los arreglos 3x3:\")\n",
    "print(producto_escalar)"
   ]
  },
  {
   "cell_type": "markdown",
   "id": "d06a0d37-d819-413a-996b-34e8b559ec4d",
   "metadata": {},
   "source": [
    "Parte 3: Análisis de datos con NumPy\n",
    "Matriz de datos de 5x4"
   ]
  },
  {
   "cell_type": "code",
   "execution_count": 11,
   "id": "51d13fb8-9062-43aa-a346-0d1a8b9cc414",
   "metadata": {},
   "outputs": [
    {
     "name": "stdout",
     "output_type": "stream",
     "text": [
      "\n",
      "Matriz de datos (5 filas y 4 columnas):\n",
      "[[ 9 14 14 12]\n",
      " [14  7 11 15]\n",
      " [ 7 14 13  5]\n",
      " [ 1 18 10  6]\n",
      " [ 2  1  4  6]]\n"
     ]
    }
   ],
   "source": [
    "matriz_datos = np.random.randint(1, 21, size=(5, 4))\n",
    "print(\"\\nMatriz de datos (5 filas y 4 columnas):\")\n",
    "print(matriz_datos)"
   ]
  },
  {
   "cell_type": "markdown",
   "id": "3a871bfd-8ed4-4136-9632-2aec85bcbc31",
   "metadata": {},
   "source": [
    "Estadísticas: Media, valor máximo y mínimo"
   ]
  },
  {
   "cell_type": "code",
   "execution_count": 12,
   "id": "557f8dae-892e-4fc0-8c3a-7ed3b89309e1",
   "metadata": {},
   "outputs": [
    {
     "name": "stdout",
     "output_type": "stream",
     "text": [
      "\n",
      "Media de cada columna: [ 6.6 10.8 10.4  8.8]\n",
      "\n",
      "Valor máximo de cada fila: [14 15 14 18  6]\n",
      "Valor mínimo de cada fila: [9 7 5 1 1]\n"
     ]
    }
   ],
   "source": [
    "media_columnas = np.mean(matriz_datos, axis=0)\n",
    "print(\"\\nMedia de cada columna:\", media_columnas)\n",
    "\n",
    "maximo_filas = np.max(matriz_datos, axis=1)\n",
    "minimo_filas = np.min(matriz_datos, axis=1)\n",
    "\n",
    "print(\"\\nValor máximo de cada fila:\", maximo_filas)\n",
    "print(\"Valor mínimo de cada fila:\", minimo_filas)"
   ]
  },
  {
   "cell_type": "markdown",
   "id": "9d793fbf-d808-42a8-b93d-3a1f8ed2ad21",
   "metadata": {},
   "source": [
    "Ordenamos las filas según la segunda columna"
   ]
  },
  {
   "cell_type": "code",
   "execution_count": 13,
   "id": "9ae1a0cb-6895-4ad4-930b-2785ec43ae1c",
   "metadata": {},
   "outputs": [
    {
     "name": "stdout",
     "output_type": "stream",
     "text": [
      "\n",
      "Matriz ordenada según la segunda columna (peso):\n",
      "[[ 2  1  4  6]\n",
      " [14  7 11 15]\n",
      " [ 7 14 13  5]\n",
      " [ 9 14 14 12]\n",
      " [ 1 18 10  6]]\n"
     ]
    }
   ],
   "source": [
    "matriz_ordenada = matriz_datos[matriz_datos[:, 1].argsort()]\n",
    "print(\"\\nMatriz ordenada según la segunda columna (peso):\")\n",
    "print(matriz_ordenada)"
   ]
  },
  {
   "cell_type": "code",
   "execution_count": null,
   "id": "a1ca48f6-3fea-4d53-b5c9-f8b573b3a039",
   "metadata": {},
   "outputs": [],
   "source": []
  }
 ],
 "metadata": {
  "kernelspec": {
   "display_name": "Python 3 (ipykernel)",
   "language": "python",
   "name": "python3"
  },
  "language_info": {
   "codemirror_mode": {
    "name": "ipython",
    "version": 3
   },
   "file_extension": ".py",
   "mimetype": "text/x-python",
   "name": "python",
   "nbconvert_exporter": "python",
   "pygments_lexer": "ipython3",
   "version": "3.12.7"
  }
 },
 "nbformat": 4,
 "nbformat_minor": 5
}
